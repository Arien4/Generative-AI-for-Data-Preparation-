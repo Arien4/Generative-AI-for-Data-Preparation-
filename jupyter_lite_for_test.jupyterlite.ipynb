{
  "metadata": {
    "kernelspec": {
      "name": "python",
      "display_name": "Python (Pyodide)",
      "language": "python"
    },
    "language_info": {
      "codemirror_mode": {
        "name": "python",
        "version": 3
      },
      "file_extension": ".py",
      "mimetype": "text/x-python",
      "name": "python",
      "nbconvert_exporter": "python",
      "pygments_lexer": "ipython3",
      "version": "3.8"
    }
  },
  "nbformat_minor": 4,
  "nbformat": 4,
  "cells": [
    {
      "cell_type": "markdown",
      "source": "<p style=\"text-align:center\">\n    <a href=\"https://skills.network\" target=\"_blank\">\n    <img src=\"https://cf-courses-data.s3.us.cloud-object-storage.appdomain.cloud/assets/logos/SN_web_lightmode.png\" width=\"300\" alt=\"Skills Network Logo\">\n    </a>\n</p>\n",
      "metadata": {}
    },
    {
      "cell_type": "markdown",
      "source": "# Test Environment for Generative AI classroom labs\n\nThis lab provides a test environment for the codes generated using the Generative AI classroom.\n\nFollow the instructions below to set up this environment for further use.\n",
      "metadata": {}
    },
    {
      "cell_type": "markdown",
      "source": "# Setup\n",
      "metadata": {}
    },
    {
      "cell_type": "markdown",
      "source": "### Install required libraries\n\nIn case of a requirement of installing certain python libraries for use in your task, you may do so as shown below.\n",
      "metadata": {}
    },
    {
      "cell_type": "code",
      "source": "%pip install seaborn\nimport piplite\n\nawait piplite.install(['nbformat', 'plotly'])",
      "metadata": {
        "trusted": true
      },
      "outputs": [],
      "execution_count": 1
    },
    {
      "cell_type": "markdown",
      "source": "### Dataset URL from the GenAI lab\nUse the URL provided in the GenAI lab in the cell below. \n",
      "metadata": {}
    },
    {
      "cell_type": "code",
      "source": "URL = \"https://cf-courses-data.s3.us.cloud-object-storage.appdomain.cloud/IBMDeveloperSkillsNetwork-DA0101EN-Coursera/laptop_pricing_dataset_mod1.csv\"",
      "metadata": {
        "trusted": true
      },
      "outputs": [],
      "execution_count": 2
    },
    {
      "cell_type": "markdown",
      "source": "### Downloading the dataset\n\nExecute the following code to download the dataset in to the interface.\n\n> Please note that this step is essential in JupyterLite. If you are using a downloaded version of this notebook and running it on JupyterLabs, then you can skip this step and directly use the URL in pandas.read_csv() function to read the dataset as a dataframe\n",
      "metadata": {}
    },
    {
      "cell_type": "code",
      "source": "from pyodide.http import pyfetch\n\nasync def download(url, filename):\n    response = await pyfetch(url)\n    if response.status == 200:\n        with open(filename, \"wb\") as f:\n            f.write(await response.bytes())\n\npath = URL\n\nawait download(path, \"dataset.csv\")",
      "metadata": {
        "trusted": true
      },
      "outputs": [],
      "execution_count": 3
    },
    {
      "cell_type": "markdown",
      "source": "---\n",
      "metadata": {}
    },
    {
      "cell_type": "markdown",
      "source": "# Test Environment\n",
      "metadata": {}
    },
    {
      "cell_type": "code",
      "source": "# Write a Python code that can perform the following tasks.\n# Read the CSV file, located on a given file path, into a Pandas data frame, assuming that the first rows of the file are the headers for the data.\n\nimport pandas as pd\n\n# Specify the file path to your CSV file\nfile_path = \"dataset.csv\"\n\n# Read the CSV file into a DataFrame\ndf = pd.read_csv(file_path)\n\n# Display the first few rows of the DataFrame\nprint(df.head())",
      "metadata": {
        "trusted": true
      },
      "outputs": [
        {
          "name": "stdout",
          "text": "   Unnamed: 0 Manufacturer  Category     Screen  GPU  OS  CPU_core  \\\n0           0         Acer         4  IPS Panel    2   1         5   \n1           1         Dell         3    Full HD    1   1         3   \n2           2         Dell         3    Full HD    1   1         7   \n3           3         Dell         4  IPS Panel    2   1         5   \n4           4           HP         4    Full HD    2   1         7   \n\n   Screen_Size_cm  CPU_frequency  RAM_GB  Storage_GB_SSD  Weight_kg  Price  \n0          35.560            1.6       8             256       1.60    978  \n1          39.624            2.0       4             256       2.20    634  \n2          39.624            2.7       8             256       2.20    946  \n3          33.782            1.6       8             128       1.22   1244  \n4          39.624            1.8       8             256       1.91    837  \n",
          "output_type": "stream"
        }
      ],
      "execution_count": 7
    },
    {
      "cell_type": "code",
      "source": "# Write a Python code that identifies the columns with missing values in a pandas data frame.\n# Count of missing values in each column\nmissing_count = df.isnull().sum()\n\n# Filter and display columns with missing values and their counts\nmissing_columns_with_count = missing_count[missing_count > 0]\nprint(\"Columns with missing values and their counts:\")\nprint(missing_columns_with_count)",
      "metadata": {
        "trusted": true
      },
      "outputs": [
        {
          "name": "stdout",
          "text": "Columns with missing values and their counts:\nScreen_Size_cm    4\nWeight_kg         5\ndtype: int64\n",
          "output_type": "stream"
        }
      ],
      "execution_count": 9
    },
    {
      "cell_type": "code",
      "source": "# Write a Python code to replace the missing values in a pandas data frame, per the following guidelines.\n# 1. For a categorical attribute \"Screen_Size_cm\", replace the missing values with the most frequent value in the column.\n# 2. For a continuous value attribute \"Weight_kg\", replace the missing values with the mean value of the entries in the column.\n\n# 1. Replace missing values in the categorical attribute \"Screen_Size_cm\" with the most frequent value\nmost_frequent_screen_size = df['Screen_Size_cm'].mode()[0]  # Get the most frequent value\ndf['Screen_Size_cm'] = df['Screen_Size_cm'].fillna(most_frequent_screen_size)\n\n# 2. Replace missing values in the continuous attribute \"Weight_kg\" with the mean value\nmean_weight = df['Weight_kg'].mean()  # Calculate the mean value\ndf['Weight_kg'] = df['Weight_kg'].fillna(mean_weight)\n\n# Display the DataFrame after replacing missing values\nprint(\"DataFrame after replacing missing values:\")\nprint(df)",
      "metadata": {
        "trusted": true
      },
      "outputs": [
        {
          "name": "stdout",
          "text": "DataFrame after replacing missing values:\n     Unnamed: 0 Manufacturer  Category     Screen  GPU  OS  CPU_core  \\\n0             0         Acer         4  IPS Panel    2   1         5   \n1             1         Dell         3    Full HD    1   1         3   \n2             2         Dell         3    Full HD    1   1         7   \n3             3         Dell         4  IPS Panel    2   1         5   \n4             4           HP         4    Full HD    2   1         7   \n..          ...          ...       ...        ...  ...  ..       ...   \n233         233       Lenovo         4  IPS Panel    2   1         7   \n234         234      Toshiba         3    Full HD    2   1         5   \n235         235       Lenovo         4  IPS Panel    2   1         5   \n236         236       Lenovo         3    Full HD    3   1         5   \n237         237      Toshiba         3    Full HD    2   1         5   \n\n     Screen_Size_cm  CPU_frequency  RAM_GB  Storage_GB_SSD  Weight_kg  Price  \n0            35.560            1.6       8             256       1.60    978  \n1            39.624            2.0       4             256       2.20    634  \n2            39.624            2.7       8             256       2.20    946  \n3            33.782            1.6       8             128       1.22   1244  \n4            39.624            1.8       8             256       1.91    837  \n..              ...            ...     ...             ...        ...    ...  \n233          35.560            2.6       8             256       1.70   1891  \n234          33.782            2.4       8             256       1.20   1950  \n235          30.480            2.6       8             256       1.36   2236  \n236          39.624            2.5       6             256       2.40    883  \n237          35.560            2.3       8             256       1.95   1499  \n\n[238 rows x 13 columns]\n",
          "output_type": "stream"
        }
      ],
      "execution_count": 11
    },
    {
      "cell_type": "code",
      "source": "# Write a Python code snippet to change the data type of the attributes \"Screen_Size_cm\" and \"Weight_kg\" of a data frame to float.\n# Change the data type of \"Screen_Size_cm\" and \"Weight_kg\" to float\ndf['Screen_Size_cm'] = df['Screen_Size_cm'].astype(float)\ndf['Weight_kg'] = df['Weight_kg'].astype(float)\n\n# Display the DataFrame to verify the changes\nprint(\"Data types after conversion:\")\nprint(df.dtypes)\nprint(\"\\nDataFrame after changing data types:\")\nprint(df)",
      "metadata": {
        "trusted": true
      },
      "outputs": [
        {
          "name": "stdout",
          "text": "Data types after conversion:\nUnnamed: 0          int64\nManufacturer       object\nCategory            int64\nScreen             object\nGPU                 int64\nOS                  int64\nCPU_core            int64\nScreen_Size_cm    float64\nCPU_frequency     float64\nRAM_GB              int64\nStorage_GB_SSD      int64\nWeight_kg         float64\nPrice               int64\ndtype: object\n\nDataFrame after changing data types:\n     Unnamed: 0 Manufacturer  Category     Screen  GPU  OS  CPU_core  \\\n0             0         Acer         4  IPS Panel    2   1         5   \n1             1         Dell         3    Full HD    1   1         3   \n2             2         Dell         3    Full HD    1   1         7   \n3             3         Dell         4  IPS Panel    2   1         5   \n4             4           HP         4    Full HD    2   1         7   \n..          ...          ...       ...        ...  ...  ..       ...   \n233         233       Lenovo         4  IPS Panel    2   1         7   \n234         234      Toshiba         3    Full HD    2   1         5   \n235         235       Lenovo         4  IPS Panel    2   1         5   \n236         236       Lenovo         3    Full HD    3   1         5   \n237         237      Toshiba         3    Full HD    2   1         5   \n\n     Screen_Size_cm  CPU_frequency  RAM_GB  Storage_GB_SSD  Weight_kg  Price  \n0            35.560            1.6       8             256       1.60    978  \n1            39.624            2.0       4             256       2.20    634  \n2            39.624            2.7       8             256       2.20    946  \n3            33.782            1.6       8             128       1.22   1244  \n4            39.624            1.8       8             256       1.91    837  \n..              ...            ...     ...             ...        ...    ...  \n233          35.560            2.6       8             256       1.70   1891  \n234          33.782            2.4       8             256       1.20   1950  \n235          30.480            2.6       8             256       1.36   2236  \n236          39.624            2.5       6             256       2.40    883  \n237          35.560            2.3       8             256       1.95   1499  \n\n[238 rows x 13 columns]\n",
          "output_type": "stream"
        }
      ],
      "execution_count": 12
    },
    {
      "cell_type": "code",
      "source": "# Write a Python code to modify the contents under the following attributes of the data frame as required.\n# 1. Data under 'Screen_Size_cm' is assumed to be in centimeters. Convert this data into inches. Modify the name of the attribute to 'Screen_Size_inch'.\n# 2. Data under 'Weight_kg' is assumed to be in kilograms. Convert this data into pounds. Modify the name of the attribute to 'Weight_pounds'.\n\n# Conversion factors\ncm_to_inch = 0.393701\nkg_to_pounds = 2.20462\n\n# 1. Convert 'Screen_Size_cm' to inches and rename the attribute\ndf['Screen_Size_inch'] = df['Screen_Size_cm'] * cm_to_inch\n\n# 2. Convert 'Weight_kg' to pounds and rename the attribute\ndf['Weight_pounds'] = df['Weight_kg'] * kg_to_pounds\n\n# Optionally, drop the original columns if no longer needed\ndf.drop(columns=['Screen_Size_cm', 'Weight_kg'], inplace=True)\n\n# Display the DataFrame to verify the changes\nprint(\"DataFrame after converting and renaming attributes:\")\nprint(df)",
      "metadata": {
        "trusted": true
      },
      "outputs": [
        {
          "name": "stdout",
          "text": "DataFrame after converting and renaming attributes:\n     Unnamed: 0 Manufacturer  Category     Screen  GPU  OS  CPU_core  \\\n0             0         Acer         4  IPS Panel    2   1         5   \n1             1         Dell         3    Full HD    1   1         3   \n2             2         Dell         3    Full HD    1   1         7   \n3             3         Dell         4  IPS Panel    2   1         5   \n4             4           HP         4    Full HD    2   1         7   \n..          ...          ...       ...        ...  ...  ..       ...   \n233         233       Lenovo         4  IPS Panel    2   1         7   \n234         234      Toshiba         3    Full HD    2   1         5   \n235         235       Lenovo         4  IPS Panel    2   1         5   \n236         236       Lenovo         3    Full HD    3   1         5   \n237         237      Toshiba         3    Full HD    2   1         5   \n\n     CPU_frequency  RAM_GB  Storage_GB_SSD  Price  Screen_Size_inch  \\\n0              1.6       8             256    978         14.000008   \n1              2.0       4             256    634         15.600008   \n2              2.7       8             256    946         15.600008   \n3              1.6       8             128   1244         13.300007   \n4              1.8       8             256    837         15.600008   \n..             ...     ...             ...    ...               ...   \n233            2.6       8             256   1891         14.000008   \n234            2.4       8             256   1950         13.300007   \n235            2.6       8             256   2236         12.000006   \n236            2.5       6             256    883         15.600008   \n237            2.3       8             256   1499         14.000008   \n\n     Weight_pounds  \n0         3.527392  \n1         4.850164  \n2         4.850164  \n3         2.689636  \n4         4.210824  \n..             ...  \n233       3.747854  \n234       2.645544  \n235       2.998283  \n236       5.291088  \n237       4.299009  \n\n[238 rows x 13 columns]\n",
          "output_type": "stream"
        }
      ],
      "execution_count": 13
    },
    {
      "cell_type": "code",
      "source": "# Write a Python code to normalize the content under the attribute \"CPU_frequency\"\n# in a data frame df concerning its maximum value. Make changes to the original data, \n# and do not create a new attribute.\n \n# Normalize the 'CPU_frequency' column concerning its maximum value\nmax_cpu_frequency = df['CPU_frequency'].max()  # Find the maximum value\ndf['CPU_frequency'] = df['CPU_frequency'] / max_cpu_frequency  # Normalize the column\n\n# Display the DataFrame to verify the changes\nprint(\"DataFrame after normalizing 'CPU_frequency':\")\nprint(df)\n",
      "metadata": {
        "trusted": true
      },
      "outputs": [
        {
          "name": "stdout",
          "text": "DataFrame after normalizing 'CPU_frequency':\n     Unnamed: 0 Manufacturer  Category     Screen  GPU  OS  CPU_core  \\\n0             0         Acer         4  IPS Panel    2   1         5   \n1             1         Dell         3    Full HD    1   1         3   \n2             2         Dell         3    Full HD    1   1         7   \n3             3         Dell         4  IPS Panel    2   1         5   \n4             4           HP         4    Full HD    2   1         7   \n..          ...          ...       ...        ...  ...  ..       ...   \n233         233       Lenovo         4  IPS Panel    2   1         7   \n234         234      Toshiba         3    Full HD    2   1         5   \n235         235       Lenovo         4  IPS Panel    2   1         5   \n236         236       Lenovo         3    Full HD    3   1         5   \n237         237      Toshiba         3    Full HD    2   1         5   \n\n     CPU_frequency  RAM_GB  Storage_GB_SSD  Price  Screen_Size_inch  \\\n0         0.551724       8             256    978         14.000008   \n1         0.689655       4             256    634         15.600008   \n2         0.931034       8             256    946         15.600008   \n3         0.551724       8             128   1244         13.300007   \n4         0.620690       8             256    837         15.600008   \n..             ...     ...             ...    ...               ...   \n233       0.896552       8             256   1891         14.000008   \n234       0.827586       8             256   1950         13.300007   \n235       0.896552       8             256   2236         12.000006   \n236       0.862069       6             256    883         15.600008   \n237       0.793103       8             256   1499         14.000008   \n\n     Weight_pounds  \n0         3.527392  \n1         4.850164  \n2         4.850164  \n3         2.689636  \n4         4.210824  \n..             ...  \n233       3.747854  \n234       2.645544  \n235       2.998283  \n236       5.291088  \n237       4.299009  \n\n[238 rows x 13 columns]\n",
          "output_type": "stream"
        }
      ],
      "execution_count": 14
    },
    {
      "cell_type": "code",
      "source": "# Write a Python code to perform the following tasks.\n# 1. Convert a data frame df attribute \"Screen\", into indicator variables, \n# saved as df1, with the naming convention \"Screen_<unique value of the attribute>\".\n# 2. Append df1 into the original data frame df.\n# 3. Drop the original attribute from the data frame df.\n\n# 1. Convert the \"Screen\" attribute into indicator variables\ndf1 = pd.get_dummies(df['Screen'], prefix='Screen')\n\n# 2. Append the new indicator variables to the original DataFrame\ndf = pd.concat([df, df1], axis=1)\n\n# 3. Drop the original \"Screen\" attribute from the DataFrame\ndf.drop(columns=['Screen'], inplace=True)\n\n# Display the DataFrame to verify the changes\nprint(\"DataFrame after creating indicator variables and dropping the original 'Screen' attribute:\")\nprint(df)",
      "metadata": {
        "trusted": true
      },
      "outputs": [
        {
          "name": "stdout",
          "text": "DataFrame after creating indicator variables and dropping the original 'Screen' attribute:\n     Unnamed: 0 Manufacturer  Category  GPU  OS  CPU_core  CPU_frequency  \\\n0             0         Acer         4    2   1         5       0.551724   \n1             1         Dell         3    1   1         3       0.689655   \n2             2         Dell         3    1   1         7       0.931034   \n3             3         Dell         4    2   1         5       0.551724   \n4             4           HP         4    2   1         7       0.620690   \n..          ...          ...       ...  ...  ..       ...            ...   \n233         233       Lenovo         4    2   1         7       0.896552   \n234         234      Toshiba         3    2   1         5       0.827586   \n235         235       Lenovo         4    2   1         5       0.896552   \n236         236       Lenovo         3    3   1         5       0.862069   \n237         237      Toshiba         3    2   1         5       0.793103   \n\n     RAM_GB  Storage_GB_SSD  Price  Screen_Size_inch  Weight_pounds  \\\n0         8             256    978         14.000008       3.527392   \n1         4             256    634         15.600008       4.850164   \n2         8             256    946         15.600008       4.850164   \n3         8             128   1244         13.300007       2.689636   \n4         8             256    837         15.600008       4.210824   \n..      ...             ...    ...               ...            ...   \n233       8             256   1891         14.000008       3.747854   \n234       8             256   1950         13.300007       2.645544   \n235       8             256   2236         12.000006       2.998283   \n236       6             256    883         15.600008       5.291088   \n237       8             256   1499         14.000008       4.299009   \n\n     Screen_Full HD  Screen_IPS Panel  \n0             False              True  \n1              True             False  \n2              True             False  \n3             False              True  \n4              True             False  \n..              ...               ...  \n233           False              True  \n234            True             False  \n235           False              True  \n236            True             False  \n237            True             False  \n\n[238 rows x 14 columns]\n",
          "output_type": "stream"
        }
      ],
      "execution_count": 15
    },
    {
      "cell_type": "code",
      "source": "# Create a prompt to generate a Python code that converts the values under Price from USD to Euros.\n\n#Assume you have a Pandas DataFrame named df that contains a column called \"Price\" with values in USD.\n# Convert the values in the \"Price\" column from USD to Euros. Use a conversion rate of 1 USD = 0.85 Euros.\n# Update the original \"Price\" column with the converted values in Euros.\n# Display the updated DataFrame to verify the changes.\n\n# Conversion rate from USD to Euros\nconversion_rate = 0.85\n\n# Convert the 'Price' column from USD to Euros\ndf['Price'] = df['Price'] * conversion_rate\n\n# Display the updated DataFrame to verify the changes\nprint(\"Updated DataFrame with prices in Euros:\")\nprint(df)",
      "metadata": {
        "trusted": true
      },
      "outputs": [
        {
          "name": "stdout",
          "text": "Updated DataFrame with prices in Euros:\n     Unnamed: 0 Manufacturer  Category  GPU  OS  CPU_core  CPU_frequency  \\\n0             0         Acer         4    2   1         5       0.551724   \n1             1         Dell         3    1   1         3       0.689655   \n2             2         Dell         3    1   1         7       0.931034   \n3             3         Dell         4    2   1         5       0.551724   \n4             4           HP         4    2   1         7       0.620690   \n..          ...          ...       ...  ...  ..       ...            ...   \n233         233       Lenovo         4    2   1         7       0.896552   \n234         234      Toshiba         3    2   1         5       0.827586   \n235         235       Lenovo         4    2   1         5       0.896552   \n236         236       Lenovo         3    3   1         5       0.862069   \n237         237      Toshiba         3    2   1         5       0.793103   \n\n     RAM_GB  Storage_GB_SSD    Price  Screen_Size_inch  Weight_pounds  \\\n0         8             256   831.30         14.000008       3.527392   \n1         4             256   538.90         15.600008       4.850164   \n2         8             256   804.10         15.600008       4.850164   \n3         8             128  1057.40         13.300007       2.689636   \n4         8             256   711.45         15.600008       4.210824   \n..      ...             ...      ...               ...            ...   \n233       8             256  1607.35         14.000008       3.747854   \n234       8             256  1657.50         13.300007       2.645544   \n235       8             256  1900.60         12.000006       2.998283   \n236       6             256   750.55         15.600008       5.291088   \n237       8             256  1274.15         14.000008       4.299009   \n\n     Screen_Full HD  Screen_IPS Panel  \n0             False              True  \n1              True             False  \n2              True             False  \n3             False              True  \n4              True             False  \n..              ...               ...  \n233           False              True  \n234            True             False  \n235           False              True  \n236            True             False  \n237            True             False  \n\n[238 rows x 14 columns]\n",
          "output_type": "stream"
        }
      ],
      "execution_count": 16
    },
    {
      "cell_type": "code",
      "source": "# Modify the normalization prompt to perform min-max normalization on the CPU_frequency parameter.\n\n# Write a Python code snippet that performs the following tasks:\n# Assume you have a Pandas DataFrame named df that contains a column called CPU_frequency.\n# Perform min-max normalization on the CPU_frequency column. The min-max normalization formula is given by:\n# [ \\text{Normalized Value} = \\frac{(x - \\text{min}(X))}{(\\text{max}(X) - \\text{min}(X))} ]\n# where (x) is the original value, and (X) is the set of values in the CPU_frequency column.\n# Update the original CPU_frequency column with the normalized values.\n# Display the updated DataFrame to verify the changes.\n\n# Perform min-max normalization on the 'CPU_frequency' column\nmin_value = df['CPU_frequency'].min()  # Minimum value in the column\nmax_value = df['CPU_frequency'].max()  # Maximum value in the column\n\n# Apply min-max normalization\ndf['CPU_frequency'] = (df['CPU_frequency'] - min_value) / (max_value - min_value)\n\n# Display the updated DataFrame to verify the changes\nprint(\"Updated DataFrame after min-max normalization of 'CPU_frequency':\")\nprint(df)",
      "metadata": {
        "trusted": true
      },
      "outputs": [
        {
          "name": "stdout",
          "text": "Updated DataFrame after min-max normalization of 'CPU_frequency':\n     Unnamed: 0 Manufacturer  Category  GPU  OS  CPU_core  CPU_frequency  \\\n0             0         Acer         4    2   1         5       0.235294   \n1             1         Dell         3    1   1         3       0.470588   \n2             2         Dell         3    1   1         7       0.882353   \n3             3         Dell         4    2   1         5       0.235294   \n4             4           HP         4    2   1         7       0.352941   \n..          ...          ...       ...  ...  ..       ...            ...   \n233         233       Lenovo         4    2   1         7       0.823529   \n234         234      Toshiba         3    2   1         5       0.705882   \n235         235       Lenovo         4    2   1         5       0.823529   \n236         236       Lenovo         3    3   1         5       0.764706   \n237         237      Toshiba         3    2   1         5       0.647059   \n\n     RAM_GB  Storage_GB_SSD    Price  Screen_Size_inch  Weight_pounds  \\\n0         8             256   831.30         14.000008       3.527392   \n1         4             256   538.90         15.600008       4.850164   \n2         8             256   804.10         15.600008       4.850164   \n3         8             128  1057.40         13.300007       2.689636   \n4         8             256   711.45         15.600008       4.210824   \n..      ...             ...      ...               ...            ...   \n233       8             256  1607.35         14.000008       3.747854   \n234       8             256  1657.50         13.300007       2.645544   \n235       8             256  1900.60         12.000006       2.998283   \n236       6             256   750.55         15.600008       5.291088   \n237       8             256  1274.15         14.000008       4.299009   \n\n     Screen_Full HD  Screen_IPS Panel  \n0             False              True  \n1              True             False  \n2              True             False  \n3             False              True  \n4              True             False  \n..              ...               ...  \n233           False              True  \n234            True             False  \n235           False              True  \n236            True             False  \n237            True             False  \n\n[238 rows x 14 columns]\n",
          "output_type": "stream"
        }
      ],
      "execution_count": 18
    },
    {
      "cell_type": "code",
      "source": "# With this, you have learned the process of using generative AI to create Python codes that can:\n\n# Handle missing values in the data frame\n\nModify the attribute data types\n\nPerform attribute transformations like standardization and normalization\n\nConvert categorical attributes into indicator variable attributes.",
      "metadata": {
        "trusted": true
      },
      "outputs": [
        {
          "name": "stdout",
          "text": "Updated DataFrame after min-max normalization of 'CPU_frequency':\n     Unnamed: 0 Manufacturer  Category  GPU  OS  CPU_core  CPU_frequency  \\\n0             0         Acer         4    2   1         5       0.235294   \n1             1         Dell         3    1   1         3       0.470588   \n2             2         Dell         3    1   1         7       0.882353   \n3             3         Dell         4    2   1         5       0.235294   \n4             4           HP         4    2   1         7       0.352941   \n..          ...          ...       ...  ...  ..       ...            ...   \n233         233       Lenovo         4    2   1         7       0.823529   \n234         234      Toshiba         3    2   1         5       0.705882   \n235         235       Lenovo         4    2   1         5       0.823529   \n236         236       Lenovo         3    3   1         5       0.764706   \n237         237      Toshiba         3    2   1         5       0.647059   \n\n     RAM_GB  Storage_GB_SSD    Price  Screen_Size_inch  Weight_pounds  \\\n0         8             256   831.30         14.000008       3.527392   \n1         4             256   538.90         15.600008       4.850164   \n2         8             256   804.10         15.600008       4.850164   \n3         8             128  1057.40         13.300007       2.689636   \n4         8             256   711.45         15.600008       4.210824   \n..      ...             ...      ...               ...            ...   \n233       8             256  1607.35         14.000008       3.747854   \n234       8             256  1657.50         13.300007       2.645544   \n235       8             256  1900.60         12.000006       2.998283   \n236       6             256   750.55         15.600008       5.291088   \n237       8             256  1274.15         14.000008       4.299009   \n\n     Screen_Full HD  Screen_IPS Panel  \n0             False              True  \n1              True             False  \n2              True             False  \n3             False              True  \n4              True             False  \n..              ...               ...  \n233           False              True  \n234            True             False  \n235           False              True  \n236            True             False  \n237            True             False  \n\n[238 rows x 14 columns]\n",
          "output_type": "stream"
        }
      ],
      "execution_count": null
    },
    {
      "cell_type": "markdown",
      "source": "## Authors\n",
      "metadata": {}
    },
    {
      "cell_type": "markdown",
      "source": "[Abhishek Gagneja](https://www.linkedin.com/in/abhishek-gagneja-23051987/)\n",
      "metadata": {}
    },
    {
      "cell_type": "markdown",
      "source": "## Change Log\n",
      "metadata": {}
    },
    {
      "cell_type": "markdown",
      "source": "|Date (YYYY-MM-DD)|Version|Changed By|Change Description|\n|-|-|-|-|\n|2023-12-10|0.1|Abhishek Gagneja|Initial Draft created|\n",
      "metadata": {}
    },
    {
      "cell_type": "markdown",
      "source": "Copyright © 2023 IBM Corporation. All rights reserved.\n",
      "metadata": {}
    }
  ]
}